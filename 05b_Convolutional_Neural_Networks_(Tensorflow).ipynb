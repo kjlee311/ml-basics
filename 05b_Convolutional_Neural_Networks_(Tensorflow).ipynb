{
  "nbformat": 4,
  "nbformat_minor": 0,
  "metadata": {
    "colab": {
      "name": "05b - Convolutional Neural Networks (Tensorflow).ipynb",
      "provenance": [],
      "toc_visible": true,
      "mount_file_id": "16GvF4N5AbTSHgsXuG08LncCWPTd8jx6e",
      "authorship_tag": "ABX9TyPFvM1alUNyTHX1sOstRi6d",
      "include_colab_link": true
    },
    "kernelspec": {
      "name": "python3",
      "display_name": "Python 3"
    }
  },
  "cells": [
    {
      "cell_type": "markdown",
      "metadata": {
        "id": "view-in-github",
        "colab_type": "text"
      },
      "source": [
        "<a href=\"https://colab.research.google.com/github/kjlee311/ml-basics/blob/master/05b_Convolutional_Neural_Networks_(Tensorflow).ipynb\" target=\"_parent\"><img src=\"https://colab.research.google.com/assets/colab-badge.svg\" alt=\"Open In Colab\"/></a>"
      ]
    },
    {
      "cell_type": "code",
      "metadata": {
        "colab": {
          "base_uri": "https://localhost:8080/"
        },
        "id": "wDw_zuDYarqe",
        "outputId": "b3ad3041-7627-4a01-8ae7-80c9f590388f"
      },
      "source": [
        "# 1) Install and import libraries \r\n",
        "import tensorflow\r\n",
        "from  tensorflow import keras\r\n",
        "print('TensorFlow version:',tensorflow.__version__)\r\n",
        "print('Keras version:',keras.__version__)"
      ],
      "execution_count": 1,
      "outputs": [
        {
          "output_type": "stream",
          "text": [
            "TensorFlow version: 2.4.0\n",
            "Keras version: 2.4.0\n"
          ],
          "name": "stdout"
        }
      ]
    },
    {
      "cell_type": "code",
      "metadata": {
        "colab": {
          "base_uri": "https://localhost:8080/",
          "height": 212
        },
        "id": "34rDB9TrbrCf",
        "outputId": "2e5ffa0f-9657-486b-dc5a-c66f3f6f260b"
      },
      "source": [
        "# 2) Explore the data\r\n",
        "import matplotlib.pyplot as plt\r\n",
        "import matplotlib.image as mpimg\r\n",
        "import os\r\n",
        "%matplotlib inline\r\n",
        "\r\n",
        "# The images are in the data/shapes folder\r\n",
        "data_folder = '/content/drive/MyDrive/ColabNotebooks/data/shapes'\r\n",
        "\r\n",
        "# Get the class names\r\n",
        "classes = os.listdir(data_folder)\r\n",
        "classes.sort()\r\n",
        "print(len(classes), 'classes:')\r\n",
        "print(classes)\r\n",
        "\r\n",
        "# Show the first image in each folder\r\n",
        "fig = plt.figure(figsize=(8, 12))\r\n",
        "i = 0\r\n",
        "for sub_dir in os.listdir(data_folder):\r\n",
        "    i+=1\r\n",
        "    img_file = os.listdir(os.path.join(data_folder,sub_dir))[0]\r\n",
        "    img_path = os.path.join(data_folder, sub_dir, img_file)\r\n",
        "    img = mpimg.imread(img_path)\r\n",
        "    a=fig.add_subplot(1, len(classes),i)\r\n",
        "    a.axis('off')\r\n",
        "    imgplot = plt.imshow(img)\r\n",
        "    a.set_title(img_file)\r\n",
        "plt.show()"
      ],
      "execution_count": 2,
      "outputs": [
        {
          "output_type": "stream",
          "text": [
            "3 classes:\n",
            "['circle', 'square', 'triangle']\n"
          ],
          "name": "stdout"
        },
        {
          "output_type": "display_data",
          "data": {
            "image/png": "[encoded data removed]",
            "text/plain": [
              "<Figure size 576x864 with 3 Axes>"
            ]
          },
          "metadata": {
            "tags": [],
            "needs_background": "light"
          }
        }
      ]
    },
    {
      "cell_type": "code",
      "metadata": {
        "colab": {
          "base_uri": "https://localhost:8080/"
        },
        "id": "OwJm_yJAcWue",
        "outputId": "7fb7d7e3-4cbf-4c75-989b-54856e9098ba"
      },
      "source": [
        "from tensorflow.keras.preprocessing.image import ImageDataGenerator\r\n",
        "\r\n",
        "img_size = (128, 128)\r\n",
        "batch_size = 30\r\n",
        "\r\n",
        "print(\"Getting Data...\")\r\n",
        "datagen = ImageDataGenerator(rescale=1./255, # normalize pixel values\r\n",
        "                             validation_split=0.3) # hold back 30% of the images for validation\r\n",
        "\r\n",
        "print(\"Preparing training dataset...\")\r\n",
        "train_generator = datagen.flow_from_directory(\r\n",
        "    data_folder,\r\n",
        "    target_size=img_size,\r\n",
        "    batch_size=batch_size,\r\n",
        "    class_mode='categorical',\r\n",
        "    subset='training') # set as training data\r\n",
        "\r\n",
        "print(\"Preparing validation dataset...\")\r\n",
        "validation_generator = datagen.flow_from_directory(\r\n",
        "    data_folder,\r\n",
        "    target_size=img_size,\r\n",
        "    batch_size=batch_size,\r\n",
        "    class_mode='categorical',\r\n",
        "    subset='validation') # set as validation data\r\n",
        "\r\n",
        "classnames = list(train_generator.class_indices.keys())\r\n",
        "print('Data generators ready')"
      ],
      "execution_count": 3,
      "outputs": [
        {
          "output_type": "stream",
          "text": [
            "Getting Data...\n",
            "Preparing training dataset...\n",
            "Found 840 images belonging to 3 classes.\n",
            "Preparing validation dataset...\n",
            "Found 360 images belonging to 3 classes.\n",
            "Data generators ready\n"
          ],
          "name": "stdout"
        }
      ]
    },
    {
      "cell_type": "code",
      "metadata": {
        "colab": {
          "base_uri": "https://localhost:8080/"
        },
        "id": "uAJ0EVsIdcm8",
        "outputId": "4f4e5b49-e70f-4de0-8bf0-18a8e7950562"
      },
      "source": [
        "# 4) Define the CNN\r\n",
        "# Define a CNN classifier network\r\n",
        "from tensorflow.keras.models import Sequential\r\n",
        "from tensorflow.keras.layers import Conv2D, MaxPooling2D, Dropout, Flatten, Dense\r\n",
        "\r\n",
        "# Define the model as a sequence of layers\r\n",
        "model = Sequential()\r\n",
        "\r\n",
        "# The input layer accepts an image and applies a convolution that uses 32 6x6 filters and a rectified linear unit activation function\r\n",
        "model.add(Conv2D(32, (6, 6), input_shape=train_generator.image_shape, activation='relu'))\r\n",
        "\r\n",
        "# Next we'll add a max pooling layer with a 2x2 patch\r\n",
        "model.add(MaxPooling2D(pool_size=(2,2)))\r\n",
        "\r\n",
        "# We can add as many layers as we think necessary - here we'll add another convolution and max pooling layer\r\n",
        "model.add(Conv2D(32, (6, 6), activation='relu'))\r\n",
        "model.add(MaxPooling2D(pool_size=(2, 2)))\r\n",
        "\r\n",
        "# And another set\r\n",
        "model.add(Conv2D(32, (6, 6), activation='relu'))\r\n",
        "model.add(MaxPooling2D(pool_size=(2, 2)))\r\n",
        "\r\n",
        "# A dropout layer randomly drops some nodes to reduce inter-dependencies (which can cause over-fitting)\r\n",
        "model.add(Dropout(0.2))\r\n",
        "\r\n",
        "# Flatten the feature maps \r\n",
        "model.add(Flatten())\r\n",
        "\r\n",
        "# Generate a fully-cpnnected output layer with a predicted probability for each class\r\n",
        "# (softmax ensures all probabilities sum to 1)\r\n",
        "model.add(Dense(train_generator.num_classes, activation='softmax'))\r\n",
        "\r\n",
        "# With the layers defined, we can now compile the model for categorical (multi-class) classification\r\n",
        "model.compile(loss='categorical_crossentropy',\r\n",
        "              optimizer='adam',\r\n",
        "              metrics=['accuracy'])\r\n",
        "\r\n",
        "print(model.summary())"
      ],
      "execution_count": 4,
      "outputs": [
        {
          "output_type": "stream",
          "text": [
            "Model: \"sequential\"\n",
            "_________________________________________________________________\n",
            "Layer (type)                 Output Shape              Param #   \n",
            "=================================================================\n",
            "conv2d (Conv2D)              (None, 123, 123, 32)      3488      \n",
            "_________________________________________________________________\n",
            "max_pooling2d (MaxPooling2D) (None, 61, 61, 32)        0         \n",
            "_________________________________________________________________\n",
            "conv2d_1 (Conv2D)            (None, 56, 56, 32)        36896     \n",
            "_________________________________________________________________\n",
            "max_pooling2d_1 (MaxPooling2 (None, 28, 28, 32)        0         \n",
            "_________________________________________________________________\n",
            "conv2d_2 (Conv2D)            (None, 23, 23, 32)        36896     \n",
            "_________________________________________________________________\n",
            "max_pooling2d_2 (MaxPooling2 (None, 11, 11, 32)        0         \n",
            "_________________________________________________________________\n",
            "dropout (Dropout)            (None, 11, 11, 32)        0         \n",
            "_________________________________________________________________\n",
            "flatten (Flatten)            (None, 3872)              0         \n",
            "_________________________________________________________________\n",
            "dense (Dense)                (None, 3)                 11619     \n",
            "=================================================================\n",
            "Total params: 88,899\n",
            "Trainable params: 88,899\n",
            "Non-trainable params: 0\n",
            "_________________________________________________________________\n",
            "None\n"
          ],
          "name": "stdout"
        }
      ]
    },
    {
      "cell_type": "code",
      "metadata": {
        "colab": {
          "base_uri": "https://localhost:8080/"
        },
        "id": "0jLFvzucd3l8",
        "outputId": "a7fe9d38-0ab5-4e24-83f5-029493e3e678"
      },
      "source": [
        "# 5) Train the model\r\n",
        "# Train the model over 5 epochs using 30-image batches and using the validation holdout dataset for validation\r\n",
        "num_epochs = 5\r\n",
        "history = model.fit(\r\n",
        "    train_generator,\r\n",
        "    steps_per_epoch = train_generator.samples // batch_size,\r\n",
        "    validation_data = validation_generator, \r\n",
        "    validation_steps = validation_generator.samples // batch_size,\r\n",
        "    epochs = num_epochs)"
      ],
      "execution_count": 5,
      "outputs": [
        {
          "output_type": "stream",
          "text": [
            "Epoch 1/5\n",
            "28/28 [==============================] - 363s 13s/step - loss: 0.9987 - accuracy: 0.4439 - val_loss: 0.5958 - val_accuracy: 0.6750\n",
            "Epoch 2/5\n",
            "28/28 [==============================] - 38s 1s/step - loss: 0.3913 - accuracy: 0.8070 - val_loss: 0.1509 - val_accuracy: 0.9583\n",
            "Epoch 3/5\n",
            "28/28 [==============================] - 38s 1s/step - loss: 0.1411 - accuracy: 0.9516 - val_loss: 0.0458 - val_accuracy: 0.9972\n",
            "Epoch 4/5\n",
            "28/28 [==============================] - 38s 1s/step - loss: 0.0723 - accuracy: 0.9833 - val_loss: 0.0353 - val_accuracy: 0.9917\n",
            "Epoch 5/5\n",
            "28/28 [==============================] - 38s 1s/step - loss: 0.0435 - accuracy: 0.9885 - val_loss: 0.0094 - val_accuracy: 0.9972\n"
          ],
          "name": "stdout"
        }
      ]
    },
    {
      "cell_type": "code",
      "metadata": {
        "colab": {
          "base_uri": "https://localhost:8080/",
          "height": 279
        },
        "id": "mTAwSvtgerPr",
        "outputId": "076b09ff-8489-480c-a81f-f0eb8b9ebd39"
      },
      "source": [
        "# 6) View the loss history\r\n",
        "%matplotlib inline\r\n",
        "from matplotlib import pyplot as plt\r\n",
        "\r\n",
        "epoch_nums = range(1,num_epochs+1)\r\n",
        "training_loss = history.history[\"loss\"]\r\n",
        "validation_loss = history.history[\"val_loss\"]\r\n",
        "plt.plot(epoch_nums, training_loss)\r\n",
        "plt.plot(epoch_nums, validation_loss)\r\n",
        "plt.xlabel('epoch')\r\n",
        "plt.ylabel('loss')\r\n",
        "plt.legend(['training', 'validation'], loc='upper right')\r\n",
        "plt.show()"
      ],
      "execution_count": 7,
      "outputs": [
        {
          "output_type": "display_data",
          "data": {
            "image/png": "[encoded data removed]",
            "text/plain": [
              "<Figure size 432x288 with 1 Axes>"
            ]
          },
          "metadata": {
            "tags": [],
            "needs_background": "light"
          }
        }
      ]
    },
    {
      "cell_type": "code",
      "metadata": {
        "colab": {
          "base_uri": "https://localhost:8080/",
          "height": 326
        },
        "id": "e_fvCDkEhJcs",
        "outputId": "9091451c-d196-486b-a63a-f88d1b98bda0"
      },
      "source": [
        "# 7) Evaluate model performance\r\n",
        "# Tensorflow doesn't have a built-in confusion matrix metric, so we'll use SciKit-Learn\r\n",
        "import numpy as np\r\n",
        "from sklearn.metrics import confusion_matrix\r\n",
        "import matplotlib.pyplot as plt\r\n",
        "%matplotlib inline\r\n",
        "\r\n",
        "print(\"Generating predictions from validation data...\")\r\n",
        "# Get the image and label arrays for the first batch of validation data\r\n",
        "x_test = validation_generator[0][0]\r\n",
        "y_test = validation_generator[0][1]\r\n",
        "\r\n",
        "# Use the model to predict the class\r\n",
        "class_probabilities = model.predict(x_test)\r\n",
        "\r\n",
        "# The model returns a probability value for each class\r\n",
        "# The one with the highest probability is the predicted class\r\n",
        "predictions = np.argmax(class_probabilities, axis=1)\r\n",
        "\r\n",
        "# The actual labels are hot encoded (e.g. [0 1 0], so get the one with the value 1\r\n",
        "true_labels = np.argmax(y_test, axis=1)\r\n",
        "\r\n",
        "# Plot the confusion matrix\r\n",
        "cm = confusion_matrix(true_labels, predictions)\r\n",
        "plt.imshow(cm, interpolation=\"nearest\", cmap=plt.cm.Blues)\r\n",
        "plt.colorbar()\r\n",
        "tick_marks = np.arange(len(classnames))\r\n",
        "plt.xticks(tick_marks, classnames, rotation=85)\r\n",
        "plt.yticks(tick_marks, classnames)\r\n",
        "plt.xlabel(\"Actual Shape\")\r\n",
        "plt.ylabel(\"Predicted Shape\")\r\n",
        "plt.show()"
      ],
      "execution_count": 8,
      "outputs": [
        {
          "output_type": "stream",
          "text": [
            "Generating predictions from validation data...\n"
          ],
          "name": "stdout"
        },
        {
          "output_type": "display_data",
          "data": {
            "image/png": "[encoded data removed]",
            "text/plain": [
              "<Figure size 432x288 with 2 Axes>"
            ]
          },
          "metadata": {
            "tags": [],
            "needs_background": "light"
          }
        }
      ]
    },
    {
      "cell_type": "code",
      "metadata": {
        "colab": {
          "base_uri": "https://localhost:8080/"
        },
        "id": "xh3gdOedhb1K",
        "outputId": "85ea668a-d444-49bb-fc41-ac2e9fad2f7b"
      },
      "source": [
        "# 8) Save the Trained model\r\n",
        "# Save the trained model\r\n",
        "modelFileName = 'models/shape_classifier.h5'\r\n",
        "model.save(modelFileName)\r\n",
        "del model  # deletes the existing model variable\r\n",
        "print('model saved as', modelFileName)"
      ],
      "execution_count": 9,
      "outputs": [
        {
          "output_type": "stream",
          "text": [
            "model saved as models/shape_classifier.h5\n"
          ],
          "name": "stdout"
        }
      ]
    },
    {
      "cell_type": "code",
      "metadata": {
        "colab": {
          "base_uri": "https://localhost:8080/",
          "height": 265
        },
        "id": "4hAqvx_VhiF6",
        "outputId": "7cbf3221-dded-4dbb-9949-55649e9a4a40"
      },
      "source": [
        "# 9) Use the trained model\r\n",
        "from tensorflow.keras import models\r\n",
        "import numpy as np\r\n",
        "from random import randint\r\n",
        "import os\r\n",
        "%matplotlib inline\r\n",
        "\r\n",
        "# Function to predict the class of an image\r\n",
        "def predict_image(classifier, image):\r\n",
        "    from tensorflow import convert_to_tensor\r\n",
        "    # The model expects a batch of images as input, so we'll create an array of 1 image\r\n",
        "    imgfeatures = img.reshape(1, img.shape[0], img.shape[1], img.shape[2])\r\n",
        "\r\n",
        "    # We need to format the input to match the training data\r\n",
        "    # The generator loaded the values as floating point numbers\r\n",
        "    # and normalized the pixel values, so...\r\n",
        "    imgfeatures = imgfeatures.astype('float32')\r\n",
        "    imgfeatures /= 255\r\n",
        "    \r\n",
        "    # Use the model to predict the image class\r\n",
        "    class_probabilities = classifier.predict(imgfeatures)\r\n",
        "    \r\n",
        "    # Find the class predictions with the highest predicted probability\r\n",
        "    index = int(np.argmax(class_probabilities, axis=1)[0])\r\n",
        "    return index\r\n",
        "\r\n",
        "# Function to create a random image (of a square, circle, or triangle)\r\n",
        "def create_image (size, shape):\r\n",
        "    from random import randint\r\n",
        "    import numpy as np\r\n",
        "    from PIL import Image, ImageDraw\r\n",
        "    \r\n",
        "    xy1 = randint(10,40)\r\n",
        "    xy2 = randint(60,100)\r\n",
        "    col = (randint(0,200), randint(0,200), randint(0,200))\r\n",
        "\r\n",
        "    img = Image.new(\"RGB\", size, (255, 255, 255))\r\n",
        "    draw = ImageDraw.Draw(img)\r\n",
        "    \r\n",
        "    if shape == 'circle':\r\n",
        "        draw.ellipse([(xy1,xy1), (xy2,xy2)], fill=col)\r\n",
        "    elif shape == 'triangle':\r\n",
        "        draw.polygon([(xy1,xy1), (xy2,xy2), (xy2,xy1)], fill=col)\r\n",
        "    else: # square\r\n",
        "        draw.rectangle([(xy1,xy1), (xy2,xy2)], fill=col)\r\n",
        "    del draw\r\n",
        "    \r\n",
        "    return np.array(img)\r\n",
        "\r\n",
        "# Create a random test image\r\n",
        "classnames = os.listdir(os.path.join('/content/drive/MyDrive/ColabNotebooks/data/shapes'))\r\n",
        "classnames.sort()\r\n",
        "img = create_image ((128,128), classnames[randint(0, len(classnames)-1)])\r\n",
        "plt.axis('off')\r\n",
        "plt.imshow(img)\r\n",
        "\r\n",
        "# Use the classifier to predict the class\r\n",
        "model = models.load_model(modelFileName) # loads the saved model\r\n",
        "class_idx = predict_image(model, img)\r\n",
        "print (classnames[class_idx])"
      ],
      "execution_count": 11,
      "outputs": [
        {
          "output_type": "stream",
          "text": [
            "square\n"
          ],
          "name": "stdout"
        },
        {
          "output_type": "display_data",
          "data": {
            "image/png": "[encoded data removed]",
            "text/plain": [
              "<Figure size 432x288 with 1 Axes>"
            ]
          },
          "metadata": {
            "tags": [],
            "needs_background": "light"
          }
        }
      ]
    },
    {
      "cell_type": "code",
      "metadata": {
        "id": "hzm1aVKGhvI8"
      },
      "source": [
        ""
      ],
      "execution_count": null,
      "outputs": []
    },
    {
      "cell_type": "markdown",
      "metadata": {
        "id": "exA8lR50m2sy"
      },
      "source": [
        "# New Section"
      ]
    },
    {
      "cell_type": "markdown",
      "metadata": {
        "id": "acC57uvqm38Z"
      },
      "source": [
        "# New Section"
      ]
    }
  ]
}